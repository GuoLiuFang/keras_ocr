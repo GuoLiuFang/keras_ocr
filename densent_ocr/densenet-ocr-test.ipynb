{
 "cells": [
  {
   "cell_type": "code",
   "execution_count": 1,
   "metadata": {},
   "outputs": [
    {
     "name": "stderr",
     "output_type": "stream",
     "text": [
      "Using TensorFlow backend.\n",
      "/root/miniconda3/envs/py36/lib/python3.6/importlib/_bootstrap.py:219: RuntimeWarning: compiletime version 3.5 of module 'tensorflow.python.framework.fast_tensor_util' does not match runtime version 3.6\n",
      "  return f(*args, **kwds)\n"
     ]
    },
    {
     "name": "stdout",
     "output_type": "stream",
     "text": [
      "nclass: 15\n"
     ]
    }
   ],
   "source": [
    "#Edit:2017-11-21\n",
    "#@sima\n",
    "#%%\n",
    "%matplotlib inline\n",
    "%load_ext autoreload\n",
    "%autoreload 2\n",
    "\n",
    "import time\n",
    "class Timer(object):\n",
    "    def __init__(self):\n",
    "        self.total_time = 0.\n",
    "        self.calls = 0\n",
    "        self.start_time = 0.\n",
    "        self.diff = 0.\n",
    "        self.average_time = 0.\n",
    "\n",
    "    def tic(self):\n",
    "        self.start_time = time.time()\n",
    "\n",
    "    def toc(self, average=True):\n",
    "        self.diff = time.time() - self.start_time\n",
    "        self.total_time += self.diff\n",
    "        self.calls += 1\n",
    "        self.average_time = self.total_time / self.calls\n",
    "        if average:\n",
    "            return self.average_time\n",
    "        else:\n",
    "            return self.diff\n",
    "        \n",
    "        \n",
    "from keras.layers import Input,Conv2D,MaxPooling2D,ZeroPadding2D\n",
    "from keras.layers import Flatten,BatchNormalization,Permute,TimeDistributed,Dense,Bidirectional,GRU\n",
    "from keras.models import Model\n",
    "\n",
    "\n",
    "import numpy as np\n",
    "from PIL import Image\n",
    "import keras.backend  as K\n",
    "\n",
    "from imp import reload \n",
    "import densenet\n",
    "reload(densenet)\n",
    "\n",
    "import os\n",
    "from keras.layers import Lambda\n",
    "from keras.optimizers import SGD\n",
    "\n",
    "import tensorflow as tf  \n",
    "import keras.backend.tensorflow_backend as K  \n",
    "from matplotlib import pyplot as plt\n",
    "\n",
    "def get_session(gpu_fraction=0.8):  \n",
    "    '''''Assume that you have 6GB of GPU memory and want to allocate ~2GB'''  \n",
    "  \n",
    "    num_threads = os.environ.get('OMP_NUM_THREADS')  \n",
    "    gpu_options = tf.GPUOptions(per_process_gpu_memory_fraction=gpu_fraction)  \n",
    "  \n",
    "    if num_threads:  \n",
    "        return tf.Session(config=tf.ConfigProto(  \n",
    "            gpu_options=gpu_options, intra_op_parallelism_threads=num_threads))  \n",
    "    else:  \n",
    "        return tf.Session(config=tf.ConfigProto(gpu_options=gpu_options))  \n",
    "  \n",
    "K.set_session(get_session()) \n",
    "\n",
    "\n",
    "char=''\n",
    "with open('char_jehjxx.txt',encoding='utf-8') as f:\n",
    "      for ch in f.readlines():\n",
    "            ch = ch.strip('\\r\\n')\n",
    "            char=char+ch\n",
    "            \n",
    "#caffe_ocr中把0作为blank，但是tf 的CTC  the last class is reserved to the blank label.\n",
    "#https://github.com/tensorflow/tensorflow/blob/master/tensorflow/core/util/ctc/ctc_loss_calculator.h\n",
    "char =char[1:]+'卍'\n",
    "nclass = len(char)\n",
    "print('nclass:',len(char))\n",
    "id_to_char = {i:j for i,j in enumerate(char)}\n",
    "\n",
    "\n",
    "modelPath =r'weights_densenet-20190110_plug1142_02-0.57.h5'\n",
    "input = Input(shape=(32,None,1),name='the_input')\n",
    "y_pred= densenet.dense_cnn(input,nclass)\n",
    "basemodel = Model(inputs=input,outputs=y_pred)\n",
    "basemodel.load_weights(modelPath)\n",
    "   \n",
    "t = Timer()\n",
    "def predict(img_path):\n",
    "    \n",
    "    img = Image.open(img_path)\n",
    "    im = img.convert('L')\n",
    "    scale = im.size[1]*1.0 / 32\n",
    "    w = im.size[0] / scale\n",
    "    w = int(w)\n",
    "    print('w:',w)\n",
    "    \n",
    "    im = im.resize((w,32),Image.ANTIALIAS)\n",
    "    img = np.array(im).astype(np.float32)/255.0-0.5\n",
    "    X  = img.reshape((32,w,1))\n",
    "    X = np.array([X])\n",
    "    \n",
    "    \n",
    "    t.tic()\n",
    "    y_pred = basemodel.predict(X)\n",
    "    t.toc()\n",
    "    print(\"times,\",t.diff)\n",
    "    argmax = np.argmax(y_pred, axis=2)[0]\n",
    "    \n",
    "    y_pred = y_pred[:,:,:]\n",
    "    out = K.get_value(K.ctc_decode(y_pred, input_length=np.ones(y_pred.shape[0])*y_pred.shape[1], )[0][0])[:, :]\n",
    "    out = u''.join([id_to_char[x] for x in out[0]])\n",
    "\n",
    "\n",
    "    return out,im\n",
    "\n",
    " "
   ]
  },
  {
   "cell_type": "code",
   "execution_count": 11,
   "metadata": {},
   "outputs": [
    {
     "name": "stdout",
     "output_type": "stream",
     "text": [
      "w: 139\n",
      "times, 0.014849662780761719\n",
      "预测m1: ￥2,.00.00\n"
     ]
    },
    {
     "data": {
      "text/plain": [
       "<matplotlib.image.AxesImage at 0x7f1a72e122e8>"
      ]
     },
     "execution_count": 11,
     "metadata": {},
     "output_type": "execute_result"
    },
    {
     "data": {
      "image/png": "[encoded data removed]",
      "text/plain": [
       "<Figure size 432x288 with 1 Axes>"
      ]
     },
     "metadata": {
      "needs_background": "light"
     },
     "output_type": "display_data"
    }
   ],
   "source": [
    "testimage = r'small_bitao.png'\n",
    "#testimage = r'E:\\deeplearn\\OCR\\Sample\\samples\\000000001.jpg'\n",
    "b,img= predict(testimage)\n",
    "print('预测m1:',b)\n",
    "\n",
    "plt.imshow(img)"
   ]
  },
  {
   "cell_type": "code",
   "execution_count": null,
   "metadata": {},
   "outputs": [],
   "source": []
  },
  {
   "cell_type": "code",
   "execution_count": null,
   "metadata": {},
   "outputs": [],
   "source": []
  }
 ],
 "metadata": {
  "kernelspec": {
   "display_name": "Python 3",
   "language": "python",
   "name": "python3"
  },
  "language_info": {
   "codemirror_mode": {
    "name": "ipython",
    "version": 3
   },
   "file_extension": ".py",
   "mimetype": "text/x-python",
   "name": "python",
   "nbconvert_exporter": "python",
   "pygments_lexer": "ipython3",
   "version": "3.6.7"
  }
 },
 "nbformat": 4,
 "nbformat_minor": 1
}
